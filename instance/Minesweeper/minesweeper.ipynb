{
 "cells": [
  {
   "cell_type": "code",
   "execution_count": 1,
   "metadata": {},
   "outputs": [],
   "source": [
    "import os\n",
    "import pandas as pd\n",
    "import random\n",
    "import subprocess\n",
    "import numpy as np"
   ]
  },
  {
   "cell_type": "code",
   "execution_count": 2,
   "metadata": {},
   "outputs": [],
   "source": [
    "def write_ins(file_name,b,h):\n",
    "    with open(file_name,\"w\") as f:\n",
    "        f.write(\"h=\"+str(h) + \";\\r\\n\")\n",
    "        f.write(\"w=\" + str(h)+ \";\\r\\n\")\n",
    "        f.write(\"b = [|\")\n",
    "        for i in range(0,int(len(b)/ h)):\n",
    "            f.write(str(b[i*h:(i+1)*h]).replace(\"[\",\"\").replace(\"]\",\"|\"))\n",
    "        f.write(\"]\")"
   ]
  },
  {
   "cell_type": "code",
   "execution_count": 3,
   "metadata": {},
   "outputs": [],
   "source": [
    "def write_input(file_name,h):\n",
    "    with open(file_name,\"w\") as f:\n",
    "        f.write(\"h=\"+str(h) + \";\\r\\n\")\n",
    "        f.write(\"w=\" + str(h)+ \";\\r\\n\")"
   ]
  },
  {
   "cell_type": "code",
   "execution_count": 4,
   "metadata": {},
   "outputs": [],
   "source": [
    "def get_instance(cmd):\n",
    "    gen_p = subprocess.Popen(cmd,stdout=subprocess.PIPE,shell=True) \n",
    "    gen_out = gen_p.stdout.readlines()\n",
    "    for i in range(0,len(gen_out)):\n",
    "        gen_out[i] = gen_out[i].decode(\"utf-8\")\n",
    "    gen_out = ''.join(gen_out)\n",
    "    gen_out = gen_out.split(\"\\r\\n----------\\r\\n\")\n",
    "    instance = gen_out[0].split(\"\\r\\n\")\n",
    "    return instance"
   ]
  },
  {
   "cell_type": "code",
   "execution_count": 5,
   "metadata": {},
   "outputs": [],
   "source": [
    "def get_ori(instanc,dim):\n",
    "    instance = np.array(instanc[0].split(\" \"))\n",
    "    instance = [ int(i) for i in instance[0:len(instance)-1] ]\n",
    "    result = instance[0:dim*dim]\n",
    "    b = instance[dim*dim:dim*dim*2]\n",
    "    return result,b"
   ]
  },
  {
   "cell_type": "code",
   "execution_count": 14,
   "metadata": {},
   "outputs": [],
   "source": [
    "def gen_ori(dim):\n",
    "    result = np.random.randint(0,2,dim*dim)\n",
    "    board = np.zeros(dim*dim)\n",
    "    for i in range(0,len(result)):\n",
    "        if result[i] == 1:\n",
    "            board[i] = -1\n",
    "        else:\n",
    "            num = 0\n",
    "            if i - 1 - dim in range(0,dim*dim) and (i%dim !=0):\n",
    "                if result[i - 1 - dim] == 1:\n",
    "                    num = num + 1\n",
    "            if i - dim in range(0,dim*dim):\n",
    "                if result[i - dim] == 1:\n",
    "                    num = num + 1\n",
    "            if i - dim +1 in range(0,dim*dim) and (i+1)%dim !=0:\n",
    "                if result[i - dim +1] == 1:\n",
    "                    num = num + 1\n",
    "            if i - 1 in range(0,dim*dim) and (i%dim) !=0:\n",
    "                if result[i - 1] == 1:\n",
    "                    num = num + 1\n",
    "            if i +1 in range(0,dim*dim) and (i+1)%dim !=0:\n",
    "                if result[i +1] == 1:\n",
    "                    num = num + 1\n",
    "            if i + dim -1 in range(0,dim*dim) and (i%dim !=0):\n",
    "                if result[i + dim -1] == 1:\n",
    "                    num = num + 1\n",
    "            if i + dim in range(0,dim*dim):\n",
    "                if result[i + dim] == 1:\n",
    "                    num = num + 1\n",
    "            if i + dim + 1 in range(0,dim*dim) and (i+1)%dim !=0:\n",
    "                if result[i + dim +1] == 1:\n",
    "                    num = num + 1\n",
    "            board[i] = num\n",
    "    return result,board"
   ]
  },
  {
   "cell_type": "code",
   "execution_count": 18,
   "metadata": {},
   "outputs": [],
   "source": [
    "t1,t2 = gen_ori(3)"
   ]
  },
  {
   "cell_type": "code",
   "execution_count": 19,
   "metadata": {},
   "outputs": [
    {
     "data": {
      "text/plain": [
       "array([0, 0, 1, 0, 1, 0, 0, 1, 0])"
      ]
     },
     "execution_count": 19,
     "metadata": {},
     "output_type": "execute_result"
    }
   ],
   "source": [
    "t1"
   ]
  },
  {
   "cell_type": "code",
   "execution_count": 20,
   "metadata": {},
   "outputs": [
    {
     "data": {
      "text/plain": [
       "array([ 1.,  2., -1.,  2., -1.,  3.,  2., -1.,  2.])"
      ]
     },
     "execution_count": 20,
     "metadata": {},
     "output_type": "execute_result"
    }
   ],
   "source": [
    "t2"
   ]
  },
  {
   "cell_type": "code",
   "execution_count": null,
   "metadata": {},
   "outputs": [],
   "source": []
  },
  {
   "cell_type": "code",
   "execution_count": 39,
   "metadata": {},
   "outputs": [],
   "source": [
    "def gen_start(b):\n",
    "    result =[]\n",
    "    num = 0\n",
    "    index = np.arange(0,len(b))\n",
    "    rep = random.sample(list(index),int(len(index)/2))\n",
    "    for i in range(0,len(b)):\n",
    "        if i in rep:\n",
    "            result.append(-1)\n",
    "        else:\n",
    "            result.append(int(b[i]))\n",
    "    return result"
   ]
  },
  {
   "cell_type": "code",
   "execution_count": 40,
   "metadata": {},
   "outputs": [],
   "source": [
    "def modify(start,target):\n",
    "    index = []\n",
    "    for i in range(0,len(start)):\n",
    "        if start[i] != target[i]:\n",
    "            index.append(i)\n",
    "    change_index = np.random.choice(index)\n",
    "    start[change_index] = int(target[change_index])\n",
    "    return start"
   ]
  },
  {
   "cell_type": "code",
   "execution_count": null,
   "metadata": {
    "scrolled": true
   },
   "outputs": [],
   "source": [
    "ins_num = 0\n",
    "dim = 15\n",
    "puzzle = r\"C:\\Users\\Brainless\\ResearchProject\\Minizinc\\Minesweeper\\minesweeper-gen.mzn\"\n",
    "input = r\"C:\\Users\\Brainless\\ResearchProject\\Minizinc\\Minesweeper\\input.dzn\"\n",
    "solver = r\"C:\\Users\\Brainless\\ResearchProject\\Minizinc\\Minesweeper\\minesweeper.mzn\"\n",
    "write_input(input,dim)\n",
    "while ins_num<=10:\n",
    "    seed = random.randint(0,10000000)\n",
    "    cmd = 'minizinc ' + \"-r \"+ str(seed) + r\"  --solver Gecode \" +puzzle + \" \" + input\n",
    "    instance = get_instance(cmd)\n",
    "    out =\"\"\n",
    "    while len(out) != 2:\n",
    "        result,target = get_ori(instance,dim)\n",
    "        path = r\"C:\\Users\\Brainless\\ResearchProject\\Minizinc\\Minesweeper\\instancetest.dzn\"\n",
    "        write_ins(path,target,dim)\n",
    "        cmd_solver = 'minizinc ' + \"-r \"+ str(seed) + r\" -n 2 --solver Gecode \" + solver + \" \" + path\n",
    "        p = subprocess.Popen(cmd_solver,stdout=subprocess.PIPE,shell=True) \n",
    "        out = p.stdout.readlines()\n",
    "        for j in range(0,len(out)):\n",
    "            out[j] = out[j].decode(\"utf-8\")\n",
    "        out = ''.join(out)\n",
    "        out = out.split(\"\\r\\n----------\\r\\n\")  \n",
    "    b = gen_start(target)\n",
    "    path = r\"C:\\Users\\Brainless\\ResearchProject\\Minizinc\\Minesweeper\\instance\"+str(ins_num)+\".dzn\"\n",
    "    write_ins(path,b,dim)\n",
    "    cmd_solver = 'minizinc ' + \"-r \"+ str(seed) + r\" -n 2 --solver Gecode \" + solver + \" \" + path\n",
    "    p = subprocess.Popen(cmd_solver,stdout=subprocess.PIPE,shell=True) \n",
    "    out = p.stdout.readlines()\n",
    "    for j in range(0,len(out)):\n",
    "        out[j] = out[j].decode(\"utf-8\")\n",
    "    out = ''.join(out)\n",
    "    out = out.split(\"\\r\\n----------\\r\\n\")    \n",
    "    while len(out) != 2:\n",
    "        b = modify(b,target)\n",
    "        path = r\"C:\\Users\\Brainless\\ResearchProject\\Minizinc\\Minesweeper\\instance\"+str(ins_num)+\".dzn\"\n",
    "        write_ins(path,b,dim)\n",
    "        cmd_solver = 'minizinc ' + \"-r \"+ str(seed) + r\" -n 2 --time-limit 1000 --solver Gecode \" + solver + \" \" + path\n",
    "        p = subprocess.Popen(cmd_solver,stdout=subprocess.PIPE,shell=True) \n",
    "        out = p.stdout.readlines()\n",
    "        for j in range(0,len(out)):\n",
    "            out[j] = out[j].decode(\"utf-8\")\n",
    "        out = ''.join(out)\n",
    "        out = out.split(\"\\r\\n----------\\r\\n\")\n",
    "    ins_num = ins_num+1"
   ]
  },
  {
   "cell_type": "code",
   "execution_count": 59,
   "metadata": {},
   "outputs": [
    {
     "data": {
      "text/plain": [
       "[]"
      ]
     },
     "execution_count": 59,
     "metadata": {},
     "output_type": "execute_result"
    }
   ],
   "source": [
    "target"
   ]
  },
  {
   "cell_type": "code",
   "execution_count": null,
   "metadata": {},
   "outputs": [],
   "source": []
  },
  {
   "cell_type": "code",
   "execution_count": 41,
   "metadata": {},
   "outputs": [
    {
     "ename": "ValueError",
     "evalue": "a must be non-empty",
     "output_type": "error",
     "traceback": [
      "\u001b[1;31m---------------------------------------------------------------------------\u001b[0m",
      "\u001b[1;31mValueError\u001b[0m                                Traceback (most recent call last)",
      "\u001b[1;32m<ipython-input-41-f8e6040feeff>\u001b[0m in \u001b[0;36m<module>\u001b[1;34m()\u001b[0m\n\u001b[0;32m     19\u001b[0m     \u001b[0mout\u001b[0m \u001b[1;33m=\u001b[0m \u001b[0mout\u001b[0m\u001b[1;33m.\u001b[0m\u001b[0msplit\u001b[0m\u001b[1;33m(\u001b[0m\u001b[1;34m\"\\r\\n----------\\r\\n\"\u001b[0m\u001b[1;33m)\u001b[0m\u001b[1;33m\u001b[0m\u001b[0m\n\u001b[0;32m     20\u001b[0m     \u001b[1;32mwhile\u001b[0m \u001b[0mlen\u001b[0m\u001b[1;33m(\u001b[0m\u001b[0mout\u001b[0m\u001b[1;33m)\u001b[0m \u001b[1;33m!=\u001b[0m \u001b[1;36m2\u001b[0m\u001b[1;33m:\u001b[0m\u001b[1;33m\u001b[0m\u001b[0m\n\u001b[1;32m---> 21\u001b[1;33m         \u001b[0mb\u001b[0m \u001b[1;33m=\u001b[0m \u001b[0mmodify\u001b[0m\u001b[1;33m(\u001b[0m\u001b[0mb\u001b[0m\u001b[1;33m,\u001b[0m\u001b[0mtarget\u001b[0m\u001b[1;33m)\u001b[0m\u001b[1;33m\u001b[0m\u001b[0m\n\u001b[0m\u001b[0;32m     22\u001b[0m         \u001b[0mpath\u001b[0m \u001b[1;33m=\u001b[0m \u001b[1;34mr\"C:\\Users\\Brainless\\ResearchProject\\Minizinc\\Minesweeper\\instance\"\u001b[0m\u001b[1;33m+\u001b[0m\u001b[0mstr\u001b[0m\u001b[1;33m(\u001b[0m\u001b[0mins_num\u001b[0m\u001b[1;33m)\u001b[0m\u001b[1;33m+\u001b[0m\u001b[1;34m\".dzn\"\u001b[0m\u001b[1;33m\u001b[0m\u001b[0m\n\u001b[0;32m     23\u001b[0m         \u001b[0mwrite_ins\u001b[0m\u001b[1;33m(\u001b[0m\u001b[0mpath\u001b[0m\u001b[1;33m,\u001b[0m\u001b[0mb\u001b[0m\u001b[1;33m,\u001b[0m\u001b[0mdim\u001b[0m\u001b[1;33m)\u001b[0m\u001b[1;33m\u001b[0m\u001b[0m\n",
      "\u001b[1;32m<ipython-input-40-a8ca86c03ec5>\u001b[0m in \u001b[0;36mmodify\u001b[1;34m(start, target)\u001b[0m\n\u001b[0;32m      4\u001b[0m         \u001b[1;32mif\u001b[0m \u001b[0mstart\u001b[0m\u001b[1;33m[\u001b[0m\u001b[0mi\u001b[0m\u001b[1;33m]\u001b[0m \u001b[1;33m!=\u001b[0m \u001b[0mtarget\u001b[0m\u001b[1;33m[\u001b[0m\u001b[0mi\u001b[0m\u001b[1;33m]\u001b[0m\u001b[1;33m:\u001b[0m\u001b[1;33m\u001b[0m\u001b[0m\n\u001b[0;32m      5\u001b[0m             \u001b[0mindex\u001b[0m\u001b[1;33m.\u001b[0m\u001b[0mappend\u001b[0m\u001b[1;33m(\u001b[0m\u001b[0mi\u001b[0m\u001b[1;33m)\u001b[0m\u001b[1;33m\u001b[0m\u001b[0m\n\u001b[1;32m----> 6\u001b[1;33m     \u001b[0mchange_index\u001b[0m \u001b[1;33m=\u001b[0m \u001b[0mnp\u001b[0m\u001b[1;33m.\u001b[0m\u001b[0mrandom\u001b[0m\u001b[1;33m.\u001b[0m\u001b[0mchoice\u001b[0m\u001b[1;33m(\u001b[0m\u001b[0mindex\u001b[0m\u001b[1;33m)\u001b[0m\u001b[1;33m\u001b[0m\u001b[0m\n\u001b[0m\u001b[0;32m      7\u001b[0m     \u001b[0mstart\u001b[0m\u001b[1;33m[\u001b[0m\u001b[0mchange_index\u001b[0m\u001b[1;33m]\u001b[0m \u001b[1;33m=\u001b[0m \u001b[0mint\u001b[0m\u001b[1;33m(\u001b[0m\u001b[0mtarget\u001b[0m\u001b[1;33m[\u001b[0m\u001b[0mchange_index\u001b[0m\u001b[1;33m]\u001b[0m\u001b[1;33m)\u001b[0m\u001b[1;33m\u001b[0m\u001b[0m\n\u001b[0;32m      8\u001b[0m     \u001b[1;32mreturn\u001b[0m \u001b[0mstart\u001b[0m\u001b[1;33m\u001b[0m\u001b[0m\n",
      "\u001b[1;32mmtrand.pyx\u001b[0m in \u001b[0;36mmtrand.RandomState.choice\u001b[1;34m()\u001b[0m\n",
      "\u001b[1;31mValueError\u001b[0m: a must be non-empty"
     ]
    }
   ],
   "source": [
    "ins_num = 0\n",
    "dim = 7\n",
    "puzzle = r\"C:\\Users\\Brainless\\ResearchProject\\Minizinc\\Minesweeper\\minesweeper-gen.mzn\"\n",
    "input = r\"C:\\Users\\Brainless\\ResearchProject\\Minizinc\\Minesweeper\\input.dzn\"\n",
    "solver = r\"C:\\Users\\Brainless\\ResearchProject\\Minizinc\\Minesweeper\\minesweeper.mzn\"\n",
    "write_input(input,dim)\n",
    "seed = np.random.randint(10000)\n",
    "while ins_num<=10:\n",
    "    a,target = gen_ori(dim)\n",
    "    b= gen_start(target)\n",
    "    path = r\"C:\\Users\\Brainless\\ResearchProject\\Minizinc\\Minesweeper\\instance\"+str(ins_num)+\".dzn\"\n",
    "    write_ins(path,b,dim)\n",
    "    cmd_solver = 'minizinc ' + \"-r \"+ str(seed) + r\" -n 2 --time-limit 1000 --solver Gecode \" + solver + \" \" + path\n",
    "    p = subprocess.Popen(cmd_solver,stdout=subprocess.PIPE,shell=True) \n",
    "    out = p.stdout.readlines()\n",
    "    for j in range(0,len(out)):\n",
    "        out[j] = out[j].decode(\"utf-8\")\n",
    "    out = ''.join(out)\n",
    "    out = out.split(\"\\r\\n----------\\r\\n\")    \n",
    "    while len(out) != 2:\n",
    "        b = modify(b,target)\n",
    "        path = r\"C:\\Users\\Brainless\\ResearchProject\\Minizinc\\Minesweeper\\instance\"+str(ins_num)+\".dzn\"\n",
    "        write_ins(path,b,dim)\n",
    "        cmd_solver = 'minizinc ' + \"-r \"+ str(seed) + r\" -n 2 --time-limit 1000 --solver Gecode \" + solver + \" \" + path\n",
    "        p = subprocess.Popen(cmd_solver,stdout=subprocess.PIPE,shell=True) \n",
    "        out = p.stdout.readlines()\n",
    "        for j in range(0,len(out)):\n",
    "            out[j] = out[j].decode(\"utf-8\")\n",
    "        out = ''.join(out)\n",
    "        out = out.split(\"\\r\\n----------\\r\\n\")\n",
    "    ins_num = ins_num+1"
   ]
  },
  {
   "cell_type": "code",
   "execution_count": null,
   "metadata": {},
   "outputs": [],
   "source": []
  }
 ],
 "metadata": {
  "kernelspec": {
   "display_name": "Python 3",
   "language": "python",
   "name": "python3"
  },
  "language_info": {
   "codemirror_mode": {
    "name": "ipython",
    "version": 3
   },
   "file_extension": ".py",
   "mimetype": "text/x-python",
   "name": "python",
   "nbconvert_exporter": "python",
   "pygments_lexer": "ipython3",
   "version": "3.6.5"
  }
 },
 "nbformat": 4,
 "nbformat_minor": 2
}
